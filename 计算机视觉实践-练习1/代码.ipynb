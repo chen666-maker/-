{
 "cells": [
  {
   "cell_type": "code",
   "execution_count": 29,
   "metadata": {},
   "outputs": [],
   "source": [
    "# 导入模块\n",
    "import cv2\n",
    "import numpy as np"
   ]
  },
  {
   "cell_type": "code",
   "execution_count": 30,
   "metadata": {},
   "outputs": [],
   "source": [
    "#读取输入图片\n",
    "imageA = cv2.imread(\"a.jpg\")\n",
    "imageB = cv2.imread(\"b.jpg\")"
   ]
  },
  {
   "cell_type": "code",
   "execution_count": 31,
   "metadata": {},
   "outputs": [],
   "source": [
    "# 创建SIFT对象\n",
    "sift = cv2.SIFT_create()  # 可以改为SIFT\n",
    "# 提取特征点和描述子\n",
    "kp1, descrip1 = sift.detectAndCompute(imageA, None)\n",
    "kp2, descrip2 = sift.detectAndCompute(imageB, None)"
   ]
  },
  {
   "cell_type": "code",
   "execution_count": 32,
   "metadata": {},
   "outputs": [],
   "source": [
    "# 创建FLANN匹配器\n",
    "# 指定使用KD树\n",
    "FLANN_INDEX_KDTREE = 0\n",
    "indexParams = dict(algorithm=FLANN_INDEX_KDTREE, trees=5)\n",
    "searchParams = dict(checks=50)\n",
    "# 创建FLANN匹配器实例\n",
    "flann = cv2.FlannBasedMatcher(indexParams, searchParams)\n",
    "# 执行knn匹配\n",
    "match = flann.knnMatch(descrip1, descrip2, k=2)\n",
    "# 存储匹配点对\n",
    "good = []\n",
    "# 过滤特征点\n",
    "for i, (m, n) in enumerate(match):\n",
    "    if m.distance < 0.75 * n.distance:\n",
    "        good.append(m)\n"
   ]
  },
  {
   "cell_type": "code",
   "execution_count": 33,
   "metadata": {},
   "outputs": [],
   "source": [
    "# 当筛选后的匹配对大于10时，计算视角变换矩阵\n",
    "if len(good) > 10:\n",
    "    src_pts = np.float32([kp1[m.queryIdx].pt for m in good]).reshape(-1, 1, 2)\n",
    "    ano_pts = np.float32([kp2[m.trainIdx].pt for m in good]).reshape(-1, 1, 2)\n",
    "    M, mask = cv2.findHomography(src_pts, ano_pts, cv2.RANSAC, 5.0)\n",
    "    warpImg = cv2.warpPerspective(imageB, np.linalg.inv(M), (imageA.shape[1] + imageB.shape[1], imageB.shape[0]))\n",
    "    direct = warpImg.copy()\n",
    "    direct[0:imageA.shape[0], 0:imageB.shape[1]] = imageA\n"
   ]
  },
  {
   "cell_type": "code",
   "execution_count": 34,
   "metadata": {},
   "outputs": [
    {
     "name": "stdout",
     "output_type": "stream",
     "text": [
      "2017\n",
      "3999\n"
     ]
    }
   ],
   "source": [
    "# 计算重叠区域\n",
    "rows, cols = imageA.shape[:2]\n",
    "# 从左向右查找第一个非空且与warpImg有重叠的列\n",
    "for col in range(0, cols):\n",
    "    if imageA[:, col].any() and warpImg[:, col].any():\n",
    "        left = col\n",
    "        print(left)\n",
    "        break\n",
    "# 从右向左查找最后一个非空且与warpImg有重叠的列\n",
    "for col in range(cols - 1, 0, -1):\n",
    "    if imageA[:, col].any() and warpImg[:, col].any():\n",
    "        right = col\n",
    "        print(right)\n",
    "        break\n"
   ]
  },
  {
   "cell_type": "code",
   "execution_count": 35,
   "metadata": {},
   "outputs": [],
   "source": [
    "# 加权处理\n",
    "res = np.zeros([rows, cols, 3], np.uint8)\n",
    "for row in range(0, rows):\n",
    "    for col in range(0, cols):\n",
    "        if not imageA[row, col].any():  # 如果没有原图，用旋转的填充\n",
    "            res[row, col] = warpImg[row, col]\n",
    "        elif not warpImg[row, col].any():\n",
    "            res[row, col] = imageA[row, col]\n",
    "        else:\n",
    "            # 加权混合\n",
    "            srcImgLen = float(abs(col - left))\n",
    "            testImgLen = float(abs(col - right))\n",
    "            alpha = srcImgLen / (srcImgLen + testImgLen)\n",
    "            res[row, col] = np.clip(imageA[row, col] * (1 - alpha) + warpImg[row, col] * alpha, 0, 255)\n"
   ]
  },
  {
   "cell_type": "code",
   "execution_count": 36,
   "metadata": {},
   "outputs": [
    {
     "data": {
      "text/plain": [
       "True"
      ]
     },
     "execution_count": 36,
     "metadata": {},
     "output_type": "execute_result"
    }
   ],
   "source": [
    "# 保存结果\n",
    "warpImg[0:imageA.shape[0], 0:imageA.shape[1]] = res\n",
    "cv2.imwrite(\"a_b.jpg\", warpImg)\n"
   ]
  },
  {
   "cell_type": "code",
   "execution_count": null,
   "metadata": {},
   "outputs": [],
   "source": []
  }
 ],
 "metadata": {
  "kernelspec": {
   "display_name": "new",
   "language": "python",
   "name": "python3"
  },
  "language_info": {
   "codemirror_mode": {
    "name": "ipython",
    "version": 3
   },
   "file_extension": ".py",
   "mimetype": "text/x-python",
   "name": "python",
   "nbconvert_exporter": "python",
   "pygments_lexer": "ipython3",
   "version": "3.10.13"
  }
 },
 "nbformat": 4,
 "nbformat_minor": 2
}
